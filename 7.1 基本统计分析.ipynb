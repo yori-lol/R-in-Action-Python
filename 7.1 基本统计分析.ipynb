{
 "cells": [
  {
   "cell_type": "code",
   "execution_count": 1,
   "metadata": {},
   "outputs": [],
   "source": [
    "import pandas as pd\n",
    "import numpy as np\n",
    "from scipy import stats\n",
    "import seaborn as sns\n",
    "from sas7bdat import SAS7BDAT"
   ]
  },
  {
   "cell_type": "code",
   "execution_count": 2,
   "metadata": {},
   "outputs": [],
   "source": [
    "data = {\n",
    "    'mpg': [21.0, 21.0, 22.8, 21.4, 18.7, 18.1],\n",
    "    'hp': [110, 110, 93, 110, 175, 105],\n",
    "    'wt': [2.62, 2.88, 2.32, 3.21, 3.44, 3.46]\n",
    "}"
   ]
  },
  {
   "cell_type": "code",
   "execution_count": 3,
   "metadata": {},
   "outputs": [],
   "source": [
    "index = ['Mazada RX4', 'Mazada RX4 Wag', 'Datsun 710', 'Hornet 4 Drive', 'Hornet Sportabout', 'Valiant']"
   ]
  },
  {
   "cell_type": "code",
   "execution_count": 4,
   "metadata": {},
   "outputs": [
    {
     "data": {
      "text/html": [
       "<div>\n",
       "<style scoped>\n",
       "    .dataframe tbody tr th:only-of-type {\n",
       "        vertical-align: middle;\n",
       "    }\n",
       "\n",
       "    .dataframe tbody tr th {\n",
       "        vertical-align: top;\n",
       "    }\n",
       "\n",
       "    .dataframe thead th {\n",
       "        text-align: right;\n",
       "    }\n",
       "</style>\n",
       "<table border=\"1\" class=\"dataframe\">\n",
       "  <thead>\n",
       "    <tr style=\"text-align: right;\">\n",
       "      <th></th>\n",
       "      <th>mpg</th>\n",
       "      <th>hp</th>\n",
       "      <th>wt</th>\n",
       "    </tr>\n",
       "  </thead>\n",
       "  <tbody>\n",
       "    <tr>\n",
       "      <th>Mazada RX4</th>\n",
       "      <td>21.0</td>\n",
       "      <td>110</td>\n",
       "      <td>2.62</td>\n",
       "    </tr>\n",
       "    <tr>\n",
       "      <th>Mazada RX4 Wag</th>\n",
       "      <td>21.0</td>\n",
       "      <td>110</td>\n",
       "      <td>2.88</td>\n",
       "    </tr>\n",
       "    <tr>\n",
       "      <th>Datsun 710</th>\n",
       "      <td>22.8</td>\n",
       "      <td>93</td>\n",
       "      <td>2.32</td>\n",
       "    </tr>\n",
       "    <tr>\n",
       "      <th>Hornet 4 Drive</th>\n",
       "      <td>21.4</td>\n",
       "      <td>110</td>\n",
       "      <td>3.21</td>\n",
       "    </tr>\n",
       "    <tr>\n",
       "      <th>Hornet Sportabout</th>\n",
       "      <td>18.7</td>\n",
       "      <td>175</td>\n",
       "      <td>3.44</td>\n",
       "    </tr>\n",
       "    <tr>\n",
       "      <th>Valiant</th>\n",
       "      <td>18.1</td>\n",
       "      <td>105</td>\n",
       "      <td>3.46</td>\n",
       "    </tr>\n",
       "  </tbody>\n",
       "</table>\n",
       "</div>"
      ],
      "text/plain": [
       "                    mpg   hp    wt\n",
       "Mazada RX4         21.0  110  2.62\n",
       "Mazada RX4 Wag     21.0  110  2.88\n",
       "Datsun 710         22.8   93  2.32\n",
       "Hornet 4 Drive     21.4  110  3.21\n",
       "Hornet Sportabout  18.7  175  3.44\n",
       "Valiant            18.1  105  3.46"
      ]
     },
     "execution_count": 4,
     "metadata": {},
     "output_type": "execute_result"
    }
   ],
   "source": [
    "df = pd.DataFrame(data, index=index)\n",
    "df"
   ]
  },
  {
   "cell_type": "code",
   "execution_count": 5,
   "metadata": {},
   "outputs": [
    {
     "data": {
      "text/html": [
       "<div>\n",
       "<style scoped>\n",
       "    .dataframe tbody tr th:only-of-type {\n",
       "        vertical-align: middle;\n",
       "    }\n",
       "\n",
       "    .dataframe tbody tr th {\n",
       "        vertical-align: top;\n",
       "    }\n",
       "\n",
       "    .dataframe thead th {\n",
       "        text-align: right;\n",
       "    }\n",
       "</style>\n",
       "<table border=\"1\" class=\"dataframe\">\n",
       "  <thead>\n",
       "    <tr style=\"text-align: right;\">\n",
       "      <th></th>\n",
       "      <th>mpg</th>\n",
       "      <th>hp</th>\n",
       "      <th>wt</th>\n",
       "    </tr>\n",
       "  </thead>\n",
       "  <tbody>\n",
       "    <tr>\n",
       "      <th>count</th>\n",
       "      <td>6.000000</td>\n",
       "      <td>6.000000</td>\n",
       "      <td>6.000000</td>\n",
       "    </tr>\n",
       "    <tr>\n",
       "      <th>mean</th>\n",
       "      <td>20.500000</td>\n",
       "      <td>117.166667</td>\n",
       "      <td>2.988333</td>\n",
       "    </tr>\n",
       "    <tr>\n",
       "      <th>std</th>\n",
       "      <td>1.766352</td>\n",
       "      <td>29.088944</td>\n",
       "      <td>0.462533</td>\n",
       "    </tr>\n",
       "    <tr>\n",
       "      <th>min</th>\n",
       "      <td>18.100000</td>\n",
       "      <td>93.000000</td>\n",
       "      <td>2.320000</td>\n",
       "    </tr>\n",
       "    <tr>\n",
       "      <th>25%</th>\n",
       "      <td>19.275000</td>\n",
       "      <td>106.250000</td>\n",
       "      <td>2.685000</td>\n",
       "    </tr>\n",
       "    <tr>\n",
       "      <th>50%</th>\n",
       "      <td>21.000000</td>\n",
       "      <td>110.000000</td>\n",
       "      <td>3.045000</td>\n",
       "    </tr>\n",
       "    <tr>\n",
       "      <th>75%</th>\n",
       "      <td>21.300000</td>\n",
       "      <td>110.000000</td>\n",
       "      <td>3.382500</td>\n",
       "    </tr>\n",
       "    <tr>\n",
       "      <th>max</th>\n",
       "      <td>22.800000</td>\n",
       "      <td>175.000000</td>\n",
       "      <td>3.460000</td>\n",
       "    </tr>\n",
       "  </tbody>\n",
       "</table>\n",
       "</div>"
      ],
      "text/plain": [
       "             mpg          hp        wt\n",
       "count   6.000000    6.000000  6.000000\n",
       "mean   20.500000  117.166667  2.988333\n",
       "std     1.766352   29.088944  0.462533\n",
       "min    18.100000   93.000000  2.320000\n",
       "25%    19.275000  106.250000  2.685000\n",
       "50%    21.000000  110.000000  3.045000\n",
       "75%    21.300000  110.000000  3.382500\n",
       "max    22.800000  175.000000  3.460000"
      ]
     },
     "execution_count": 5,
     "metadata": {},
     "output_type": "execute_result"
    }
   ],
   "source": [
    "df.describe()"
   ]
  },
  {
   "cell_type": "code",
   "execution_count": 6,
   "metadata": {},
   "outputs": [
    {
     "data": {
      "text/plain": [
       "mpg   -0.354381\n",
       "hp     2.150177\n",
       "wt    -0.429910\n",
       "dtype: float64"
      ]
     },
     "execution_count": 6,
     "metadata": {},
     "output_type": "execute_result"
    }
   ],
   "source": [
    "# oandas 峰度和偏度函数\n",
    "'''\n",
    "偏度描述了数据分布的不对称程度。\n",
    "正偏度表示数据分布向右偏斜，即数据右侧的尾部更长。\n",
    "负偏度表示数据分布向左偏斜，即数据左侧的尾部更长。\n",
    "偏度的绝对值越大，表示数据分布的偏斜程度越严重。\n",
    "偏度为0表示数据分布相对对称，即左右两侧的尾部长度大致相等。\n",
    "'''\n",
    "df.skew() # 偏度"
   ]
  },
  {
   "cell_type": "code",
   "execution_count": 7,
   "metadata": {},
   "outputs": [
    {
     "data": {
      "text/plain": [
       "mpg   -1.040816\n",
       "hp     5.049650\n",
       "wt    -1.484599\n",
       "dtype: float64"
      ]
     },
     "execution_count": 7,
     "metadata": {},
     "output_type": "execute_result"
    }
   ],
   "source": [
    "'''\n",
    "峰度描述了数据分布的峰态，即数据分布的陡峭程度和尾部的厚度。\n",
    "正峰度表示数据分布更加尖峭、集中，尾部更重。\n",
    "负峰度表示数据分布更加平坦、散开，尾部更轻。\n",
    "峰度为0表示数据分布与正态分布相似，称为正态分布（Mesokurtic）。\n",
    "正峰度（Kurtosis > 0）表示高峰态（Leptokurtic）。\n",
    "负峰度（Kurtosis < 0）表示低峰态（Platykurtic）。\n",
    "'''\n",
    "df.kurtosis() # 峰度"
   ]
  },
  {
   "cell_type": "code",
   "execution_count": 8,
   "metadata": {},
   "outputs": [
    {
     "data": {
      "text/html": [
       "<div>\n",
       "<style scoped>\n",
       "    .dataframe tbody tr th:only-of-type {\n",
       "        vertical-align: middle;\n",
       "    }\n",
       "\n",
       "    .dataframe tbody tr th {\n",
       "        vertical-align: top;\n",
       "    }\n",
       "\n",
       "    .dataframe thead th {\n",
       "        text-align: right;\n",
       "    }\n",
       "</style>\n",
       "<table border=\"1\" class=\"dataframe\">\n",
       "  <thead>\n",
       "    <tr style=\"text-align: right;\">\n",
       "      <th></th>\n",
       "      <th>mpg</th>\n",
       "      <th>hp</th>\n",
       "      <th>wt</th>\n",
       "    </tr>\n",
       "  </thead>\n",
       "  <tbody>\n",
       "    <tr>\n",
       "      <th>mean</th>\n",
       "      <td>20.500000</td>\n",
       "      <td>117.166667</td>\n",
       "      <td>2.988333</td>\n",
       "    </tr>\n",
       "    <tr>\n",
       "      <th>std</th>\n",
       "      <td>1.766352</td>\n",
       "      <td>29.088944</td>\n",
       "      <td>0.462533</td>\n",
       "    </tr>\n",
       "  </tbody>\n",
       "</table>\n",
       "</div>"
      ],
      "text/plain": [
       "            mpg          hp        wt\n",
       "mean  20.500000  117.166667  2.988333\n",
       "std    1.766352   29.088944  0.462533"
      ]
     },
     "execution_count": 8,
     "metadata": {},
     "output_type": "execute_result"
    }
   ],
   "source": [
    "df.agg([np.mean, np.std])"
   ]
  },
  {
   "cell_type": "code",
   "execution_count": 9,
   "metadata": {},
   "outputs": [
    {
     "data": {
      "text/plain": [
       "0      0.145040\n",
       "1     -0.075704\n",
       "2     -1.741690\n",
       "3     -0.175922\n",
       "4     -1.130057\n",
       "         ...   \n",
       "995   -1.208786\n",
       "996   -0.509665\n",
       "997    0.783758\n",
       "998   -1.620043\n",
       "999    0.158243\n",
       "Length: 1000, dtype: float64"
      ]
     },
     "execution_count": 9,
     "metadata": {},
     "output_type": "execute_result"
    }
   ],
   "source": [
    "# 创建示例数据\n",
    "data = pd.Series(np.random.normal(0, 1, 1000))  # 正态分布的随机数据\n",
    "data"
   ]
  },
  {
   "cell_type": "code",
   "execution_count": 10,
   "metadata": {},
   "outputs": [
    {
     "name": "stdout",
     "output_type": "stream",
     "text": [
      "Confidence Interval (95.0%): [-0.07469246530841056, 0.05053602656016404]\n"
     ]
    }
   ],
   "source": [
    "# 计算置信区间\n",
    "confidence_level = 0.95 \n",
    "mean = np.mean(data)\n",
    "std_dev = np.std(data)\n",
    "sample_size = len(data)\n",
    "margin_error = stats.norm.ppf((1 + confidence_level) / 2) * std_dev / np.sqrt(sample_size)\n",
    "lower_bound = mean - margin_error\n",
    "upper_bound = mean + margin_error\n",
    "\n",
    "print(f\"Confidence Interval ({confidence_level * 100}%): [{lower_bound}, {upper_bound}]\")"
   ]
  },
  {
   "cell_type": "code",
   "execution_count": 9,
   "metadata": {},
   "outputs": [],
   "source": [
    "df = pd.read_excel(r'C:\\Users\\Administrator\\Downloads\\data.xlsx')"
   ]
  },
  {
   "cell_type": "code",
   "execution_count": 12,
   "metadata": {},
   "outputs": [
    {
     "data": {
      "text/plain": [
       "Index(['ID', 'Treatment', 'Sex', 'Age', 'Improved'], dtype='object')"
      ]
     },
     "execution_count": 12,
     "metadata": {},
     "output_type": "execute_result"
    }
   ],
   "source": [
    "df.columns"
   ]
  },
  {
   "cell_type": "code",
   "execution_count": 15,
   "metadata": {},
   "outputs": [
    {
     "data": {
      "text/plain": [
       "Improved\n",
       "Marked    66.666667\n",
       "Some      33.333333\n",
       "Name: proportion, dtype: float64"
      ]
     },
     "execution_count": 15,
     "metadata": {},
     "output_type": "execute_result"
    }
   ],
   "source": [
    "# 频数统计与频数比例统计\n",
    "# value_counts()统计字段中每个值的个数\n",
    "# normalize参数，统计字段中每个值的占比\n",
    "df.Improved.value_counts(normalize=True) * 100"
   ]
  },
  {
   "cell_type": "code",
   "execution_count": 51,
   "metadata": {},
   "outputs": [
    {
     "data": {
      "text/plain": [
       "Treatment  Improved\n",
       "Treated    Marked      21\n",
       "Placebo    Marked       7\n",
       "           Some         7\n",
       "Treated    Some         7\n",
       "Name: count, dtype: int64"
      ]
     },
     "execution_count": 51,
     "metadata": {},
     "output_type": "execute_result"
    }
   ],
   "source": [
    "# 多维频数计算与频数比例统计\n",
    "# 计算频数\n",
    "freq_table = df[['Treatment', 'Improved']].value_counts()\n",
    "freq_table"
   ]
  },
  {
   "cell_type": "code",
   "execution_count": 53,
   "metadata": {},
   "outputs": [
    {
     "data": {
      "text/plain": [
       "Treatment  Improved\n",
       "Treated    Marked      0.500000\n",
       "Placebo    Marked      0.166667\n",
       "           Some        0.166667\n",
       "Treated    Some        0.166667\n",
       "Name: count, dtype: float64"
      ]
     },
     "execution_count": 53,
     "metadata": {},
     "output_type": "execute_result"
    }
   ],
   "source": [
    "freq_table / freq_table.sum()"
   ]
  },
  {
   "cell_type": "code",
   "execution_count": 55,
   "metadata": {},
   "outputs": [
    {
     "data": {
      "text/plain": [
       "Treatment  Improved\n",
       "Treated    Marked      0.500000\n",
       "Placebo    Marked      0.166667\n",
       "           Some        0.166667\n",
       "Treated    Some        0.166667\n",
       "Name: proportion, dtype: float64"
      ]
     },
     "execution_count": 55,
     "metadata": {},
     "output_type": "execute_result"
    }
   ],
   "source": [
    "df[['Treatment', 'Improved']].value_counts(normalize=True)"
   ]
  },
  {
   "cell_type": "code",
   "execution_count": 62,
   "metadata": {},
   "outputs": [],
   "source": [
    "# 先算分母\n",
    "m = df.Treatment.value_counts().to_frame().reset_index()"
   ]
  },
  {
   "cell_type": "code",
   "execution_count": 61,
   "metadata": {},
   "outputs": [],
   "source": [
    "# 再算分子\n",
    "n = df[['Treatment', 'Improved']].value_counts().to_frame().reset_index()"
   ]
  },
  {
   "cell_type": "code",
   "execution_count": 67,
   "metadata": {},
   "outputs": [
    {
     "name": "stderr",
     "output_type": "stream",
     "text": [
      "C:\\Users\\Administrator\\AppData\\Local\\Temp\\ipykernel_10816\\3741193005.py:3: UserWarning: Pandas doesn't allow columns to be created via a new attribute name - see https://pandas.pydata.org/pandas-docs/stable/indexing.html#attribute-access\n",
      "  d.proption = d.count_x / d.count_y\n"
     ]
    },
    {
     "data": {
      "text/html": [
       "<div>\n",
       "<style scoped>\n",
       "    .dataframe tbody tr th:only-of-type {\n",
       "        vertical-align: middle;\n",
       "    }\n",
       "\n",
       "    .dataframe tbody tr th {\n",
       "        vertical-align: top;\n",
       "    }\n",
       "\n",
       "    .dataframe thead th {\n",
       "        text-align: right;\n",
       "    }\n",
       "</style>\n",
       "<table border=\"1\" class=\"dataframe\">\n",
       "  <thead>\n",
       "    <tr style=\"text-align: right;\">\n",
       "      <th></th>\n",
       "      <th>Treatment</th>\n",
       "      <th>Improved</th>\n",
       "      <th>count_x</th>\n",
       "      <th>count_y</th>\n",
       "    </tr>\n",
       "  </thead>\n",
       "  <tbody>\n",
       "    <tr>\n",
       "      <th>0</th>\n",
       "      <td>Treated</td>\n",
       "      <td>Marked</td>\n",
       "      <td>21</td>\n",
       "      <td>41</td>\n",
       "    </tr>\n",
       "    <tr>\n",
       "      <th>1</th>\n",
       "      <td>Treated</td>\n",
       "      <td>Some</td>\n",
       "      <td>7</td>\n",
       "      <td>41</td>\n",
       "    </tr>\n",
       "    <tr>\n",
       "      <th>2</th>\n",
       "      <td>Placebo</td>\n",
       "      <td>Marked</td>\n",
       "      <td>7</td>\n",
       "      <td>43</td>\n",
       "    </tr>\n",
       "    <tr>\n",
       "      <th>3</th>\n",
       "      <td>Placebo</td>\n",
       "      <td>Some</td>\n",
       "      <td>7</td>\n",
       "      <td>43</td>\n",
       "    </tr>\n",
       "  </tbody>\n",
       "</table>\n",
       "</div>"
      ],
      "text/plain": [
       "  Treatment Improved  count_x  count_y\n",
       "0   Treated   Marked       21       41\n",
       "1   Treated     Some        7       41\n",
       "2   Placebo   Marked        7       43\n",
       "3   Placebo     Some        7       43"
      ]
     },
     "execution_count": 67,
     "metadata": {},
     "output_type": "execute_result"
    }
   ],
   "source": [
    "# 再统计频数占比\n",
    "d = n.merge(m, on='Treatment', how='inner')\n",
    "d.proption = d.count_x / d.count_y\n",
    "d"
   ]
  },
  {
   "cell_type": "code",
   "execution_count": 75,
   "metadata": {},
   "outputs": [
    {
     "data": {
      "text/html": [
       "<div>\n",
       "<style scoped>\n",
       "    .dataframe tbody tr th:only-of-type {\n",
       "        vertical-align: middle;\n",
       "    }\n",
       "\n",
       "    .dataframe tbody tr th {\n",
       "        vertical-align: top;\n",
       "    }\n",
       "\n",
       "    .dataframe thead th {\n",
       "        text-align: right;\n",
       "    }\n",
       "</style>\n",
       "<table border=\"1\" class=\"dataframe\">\n",
       "  <thead>\n",
       "    <tr style=\"text-align: right;\">\n",
       "      <th>Improved</th>\n",
       "      <th>Marked</th>\n",
       "      <th>Some</th>\n",
       "      <th>NaN</th>\n",
       "      <th>All</th>\n",
       "    </tr>\n",
       "    <tr>\n",
       "      <th>Treatment</th>\n",
       "      <th></th>\n",
       "      <th></th>\n",
       "      <th></th>\n",
       "      <th></th>\n",
       "    </tr>\n",
       "  </thead>\n",
       "  <tbody>\n",
       "    <tr>\n",
       "      <th>Placebo</th>\n",
       "      <td>7</td>\n",
       "      <td>7</td>\n",
       "      <td>29</td>\n",
       "      <td>43</td>\n",
       "    </tr>\n",
       "    <tr>\n",
       "      <th>Treated</th>\n",
       "      <td>21</td>\n",
       "      <td>7</td>\n",
       "      <td>13</td>\n",
       "      <td>41</td>\n",
       "    </tr>\n",
       "    <tr>\n",
       "      <th>All</th>\n",
       "      <td>28</td>\n",
       "      <td>14</td>\n",
       "      <td>0</td>\n",
       "      <td>84</td>\n",
       "    </tr>\n",
       "  </tbody>\n",
       "</table>\n",
       "</div>"
      ],
      "text/plain": [
       "Improved   Marked  Some  NaN  All\n",
       "Treatment                        \n",
       "Placebo         7     7   29   43\n",
       "Treated        21     7   13   41\n",
       "All            28    14    0   84"
      ]
     },
     "execution_count": 75,
     "metadata": {},
     "output_type": "execute_result"
    }
   ],
   "source": [
    "# 计算多维数据的频数和占比用crosstab更快捷\n",
    "# 根据normalize的不同参数做行列占比计算（all，index，columns）\n",
    "pd.crosstab(df.Treatment, df.Improved, dropna=False, margins=True)"
   ]
  },
  {
   "cell_type": "code",
   "execution_count": 89,
   "metadata": {},
   "outputs": [
    {
     "data": {
      "text/html": [
       "<div>\n",
       "<style scoped>\n",
       "    .dataframe tbody tr th:only-of-type {\n",
       "        vertical-align: middle;\n",
       "    }\n",
       "\n",
       "    .dataframe tbody tr th {\n",
       "        vertical-align: top;\n",
       "    }\n",
       "\n",
       "    .dataframe thead th {\n",
       "        text-align: right;\n",
       "    }\n",
       "</style>\n",
       "<table border=\"1\" class=\"dataframe\">\n",
       "  <thead>\n",
       "    <tr style=\"text-align: right;\">\n",
       "      <th></th>\n",
       "      <th>Improved</th>\n",
       "      <th>Marked</th>\n",
       "      <th>Some</th>\n",
       "      <th>NaN</th>\n",
       "    </tr>\n",
       "    <tr>\n",
       "      <th>Treatment</th>\n",
       "      <th>Sex</th>\n",
       "      <th></th>\n",
       "      <th></th>\n",
       "      <th></th>\n",
       "    </tr>\n",
       "  </thead>\n",
       "  <tbody>\n",
       "    <tr>\n",
       "      <th rowspan=\"2\" valign=\"top\">Placebo</th>\n",
       "      <th>Female</th>\n",
       "      <td>0.187500</td>\n",
       "      <td>0.218750</td>\n",
       "      <td>0.593750</td>\n",
       "    </tr>\n",
       "    <tr>\n",
       "      <th>Male</th>\n",
       "      <td>0.090909</td>\n",
       "      <td>0.000000</td>\n",
       "      <td>0.909091</td>\n",
       "    </tr>\n",
       "    <tr>\n",
       "      <th rowspan=\"2\" valign=\"top\">Treated</th>\n",
       "      <th>Female</th>\n",
       "      <td>0.592593</td>\n",
       "      <td>0.185185</td>\n",
       "      <td>0.222222</td>\n",
       "    </tr>\n",
       "    <tr>\n",
       "      <th>Male</th>\n",
       "      <td>0.357143</td>\n",
       "      <td>0.142857</td>\n",
       "      <td>0.500000</td>\n",
       "    </tr>\n",
       "    <tr>\n",
       "      <th>All</th>\n",
       "      <th></th>\n",
       "      <td>0.666667</td>\n",
       "      <td>0.333333</td>\n",
       "      <td>0.000000</td>\n",
       "    </tr>\n",
       "  </tbody>\n",
       "</table>\n",
       "</div>"
      ],
      "text/plain": [
       "Improved            Marked      Some       NaN\n",
       "Treatment Sex                                 \n",
       "Placebo   Female  0.187500  0.218750  0.593750\n",
       "          Male    0.090909  0.000000  0.909091\n",
       "Treated   Female  0.592593  0.185185  0.222222\n",
       "          Male    0.357143  0.142857  0.500000\n",
       "All               0.666667  0.333333  0.000000"
      ]
     },
     "execution_count": 89,
     "metadata": {},
     "output_type": "execute_result"
    }
   ],
   "source": [
    "pd.crosstab([df['Treatment'], df['Sex']], df['Improved'], rownames=['Treatment', 'Sex'], colnames=['Improved'], dropna=False, margins=True, normalize='index')"
   ]
  },
  {
   "cell_type": "code",
   "execution_count": 91,
   "metadata": {},
   "outputs": [
    {
     "data": {
      "text/html": [
       "<div>\n",
       "<style scoped>\n",
       "    .dataframe tbody tr th:only-of-type {\n",
       "        vertical-align: middle;\n",
       "    }\n",
       "\n",
       "    .dataframe tbody tr th {\n",
       "        vertical-align: top;\n",
       "    }\n",
       "\n",
       "    .dataframe thead th {\n",
       "        text-align: right;\n",
       "    }\n",
       "</style>\n",
       "<table border=\"1\" class=\"dataframe\">\n",
       "  <thead>\n",
       "    <tr style=\"text-align: right;\">\n",
       "      <th></th>\n",
       "      <th>Sex</th>\n",
       "      <th>Female</th>\n",
       "      <th>Male</th>\n",
       "    </tr>\n",
       "    <tr>\n",
       "      <th>Treatment</th>\n",
       "      <th>Improved</th>\n",
       "      <th></th>\n",
       "      <th></th>\n",
       "    </tr>\n",
       "  </thead>\n",
       "  <tbody>\n",
       "    <tr>\n",
       "      <th rowspan=\"3\" valign=\"top\">Placebo</th>\n",
       "      <th>Marked</th>\n",
       "      <td>85.714286</td>\n",
       "      <td>14.285714</td>\n",
       "    </tr>\n",
       "    <tr>\n",
       "      <th>Some</th>\n",
       "      <td>100.000000</td>\n",
       "      <td>0.000000</td>\n",
       "    </tr>\n",
       "    <tr>\n",
       "      <th>NaN</th>\n",
       "      <td>65.517241</td>\n",
       "      <td>34.482759</td>\n",
       "    </tr>\n",
       "    <tr>\n",
       "      <th rowspan=\"3\" valign=\"top\">Treated</th>\n",
       "      <th>Marked</th>\n",
       "      <td>76.190476</td>\n",
       "      <td>23.809524</td>\n",
       "    </tr>\n",
       "    <tr>\n",
       "      <th>Some</th>\n",
       "      <td>71.428571</td>\n",
       "      <td>28.571429</td>\n",
       "    </tr>\n",
       "    <tr>\n",
       "      <th>NaN</th>\n",
       "      <td>46.153846</td>\n",
       "      <td>53.846154</td>\n",
       "    </tr>\n",
       "    <tr>\n",
       "      <th>All</th>\n",
       "      <th></th>\n",
       "      <td>70.238095</td>\n",
       "      <td>29.761905</td>\n",
       "    </tr>\n",
       "  </tbody>\n",
       "</table>\n",
       "</div>"
      ],
      "text/plain": [
       "Sex                     Female       Male\n",
       "Treatment Improved                       \n",
       "Placebo   Marked     85.714286  14.285714\n",
       "          Some      100.000000   0.000000\n",
       "          NaN        65.517241  34.482759\n",
       "Treated   Marked     76.190476  23.809524\n",
       "          Some       71.428571  28.571429\n",
       "          NaN        46.153846  53.846154\n",
       "All                  70.238095  29.761905"
      ]
     },
     "execution_count": 91,
     "metadata": {},
     "output_type": "execute_result"
    }
   ],
   "source": [
    "pd.crosstab([df['Treatment'], df['Improved']], df['Sex'], rownames=['Treatment', 'Improved'], colnames=['Sex'], dropna=False, margins=True, normalize='index')*100"
   ]
  },
  {
   "cell_type": "code",
   "execution_count": 93,
   "metadata": {},
   "outputs": [],
   "source": [
    "# 卡方独立性检验\n",
    "# 用来确定两个分类变量之间是否存在关联关系的统计方法\n",
    "# 比较实际观察到的频数与期望频数之间的差异，如果差异显著，则推断这两个变量之间存在关联\n",
    "from scipy.stats import contingency"
   ]
  },
  {
   "cell_type": "code",
   "execution_count": 115,
   "metadata": {},
   "outputs": [
    {
     "data": {
      "text/html": [
       "<div>\n",
       "<style scoped>\n",
       "    .dataframe tbody tr th:only-of-type {\n",
       "        vertical-align: middle;\n",
       "    }\n",
       "\n",
       "    .dataframe tbody tr th {\n",
       "        vertical-align: top;\n",
       "    }\n",
       "\n",
       "    .dataframe thead th {\n",
       "        text-align: right;\n",
       "    }\n",
       "</style>\n",
       "<table border=\"1\" class=\"dataframe\">\n",
       "  <thead>\n",
       "    <tr style=\"text-align: right;\">\n",
       "      <th>Improved</th>\n",
       "      <th>Marked</th>\n",
       "      <th>Some</th>\n",
       "    </tr>\n",
       "    <tr>\n",
       "      <th>Treatment</th>\n",
       "      <th></th>\n",
       "      <th></th>\n",
       "    </tr>\n",
       "  </thead>\n",
       "  <tbody>\n",
       "    <tr>\n",
       "      <th>Placebo</th>\n",
       "      <td>7</td>\n",
       "      <td>7</td>\n",
       "    </tr>\n",
       "    <tr>\n",
       "      <th>Treated</th>\n",
       "      <td>21</td>\n",
       "      <td>7</td>\n",
       "    </tr>\n",
       "  </tbody>\n",
       "</table>\n",
       "</div>"
      ],
      "text/plain": [
       "Improved   Marked  Some\n",
       "Treatment              \n",
       "Placebo         7     7\n",
       "Treated        21     7"
      ]
     },
     "execution_count": 115,
     "metadata": {},
     "output_type": "execute_result"
    }
   ],
   "source": [
    "contingency_table = pd.crosstab(df['Treatment'], df['Improved'], dropna=False, margins=True)\n",
    "contingency_table"
   ]
  },
  {
   "cell_type": "code",
   "execution_count": 118,
   "metadata": {},
   "outputs": [
    {
     "data": {
      "text/html": [
       "<div>\n",
       "<style scoped>\n",
       "    .dataframe tbody tr th:only-of-type {\n",
       "        vertical-align: middle;\n",
       "    }\n",
       "\n",
       "    .dataframe tbody tr th {\n",
       "        vertical-align: top;\n",
       "    }\n",
       "\n",
       "    .dataframe thead th {\n",
       "        text-align: right;\n",
       "    }\n",
       "</style>\n",
       "<table border=\"1\" class=\"dataframe\">\n",
       "  <thead>\n",
       "    <tr style=\"text-align: right;\">\n",
       "      <th>Improved</th>\n",
       "      <th>Marked</th>\n",
       "      <th>Some</th>\n",
       "      <th>NaN</th>\n",
       "      <th>All</th>\n",
       "    </tr>\n",
       "    <tr>\n",
       "      <th>Treatment</th>\n",
       "      <th></th>\n",
       "      <th></th>\n",
       "      <th></th>\n",
       "      <th></th>\n",
       "    </tr>\n",
       "  </thead>\n",
       "  <tbody>\n",
       "    <tr>\n",
       "      <th>Placebo</th>\n",
       "      <td>7</td>\n",
       "      <td>7</td>\n",
       "      <td>29</td>\n",
       "      <td>43</td>\n",
       "    </tr>\n",
       "    <tr>\n",
       "      <th>Treated</th>\n",
       "      <td>21</td>\n",
       "      <td>7</td>\n",
       "      <td>13</td>\n",
       "      <td>41</td>\n",
       "    </tr>\n",
       "    <tr>\n",
       "      <th>All</th>\n",
       "      <td>28</td>\n",
       "      <td>14</td>\n",
       "      <td>0</td>\n",
       "      <td>84</td>\n",
       "    </tr>\n",
       "  </tbody>\n",
       "</table>\n",
       "</div>"
      ],
      "text/plain": [
       "Improved   Marked  Some  NaN  All\n",
       "Treatment                        \n",
       "Placebo         7     7   29   43\n",
       "Treated        21     7   13   41\n",
       "All            28    14    0   84"
      ]
     },
     "execution_count": 118,
     "metadata": {},
     "output_type": "execute_result"
    }
   ],
   "source": [
    "pd.crosstab(df['Treatment'], df['Improved'], dropna=False, margins=True)"
   ]
  },
  {
   "cell_type": "code",
   "execution_count": 117,
   "metadata": {},
   "outputs": [
    {
     "data": {
      "text/plain": [
       "Chi2ContingencyResult(statistic=1.6205357142857142, pvalue=0.20301710604921006, dof=1, expected_freq=array([[ 9.33333333,  4.66666667],\n",
       "       [18.66666667,  9.33333333]]))"
      ]
     },
     "execution_count": 117,
     "metadata": {},
     "output_type": "execute_result"
    }
   ],
   "source": [
    "contingency.chi2_contingency(contingency_table.to_numpy())"
   ]
  },
  {
   "cell_type": "markdown",
   "metadata": {},
   "source": []
  },
  {
   "cell_type": "code",
   "execution_count": 120,
   "metadata": {},
   "outputs": [
    {
     "data": {
      "text/html": [
       "<div>\n",
       "<style scoped>\n",
       "    .dataframe tbody tr th:only-of-type {\n",
       "        vertical-align: middle;\n",
       "    }\n",
       "\n",
       "    .dataframe tbody tr th {\n",
       "        vertical-align: top;\n",
       "    }\n",
       "\n",
       "    .dataframe thead th {\n",
       "        text-align: right;\n",
       "    }\n",
       "</style>\n",
       "<table border=\"1\" class=\"dataframe\">\n",
       "  <thead>\n",
       "    <tr style=\"text-align: right;\">\n",
       "      <th></th>\n",
       "      <th>id</th>\n",
       "      <th>p_tech_date</th>\n",
       "      <th>ct</th>\n",
       "      <th>company_name</th>\n",
       "      <th>symbol</th>\n",
       "      <th>report_date</th>\n",
       "      <th>holder_name</th>\n",
       "      <th>holder_quantity</th>\n",
       "      <th>holder_quantity_change</th>\n",
       "      <th>holder_pct_change</th>\n",
       "      <th>holder_value</th>\n",
       "      <th>modify_at</th>\n",
       "      <th>batch_id</th>\n",
       "      <th>host_ip</th>\n",
       "      <th>ingestion_storage_time</th>\n",
       "    </tr>\n",
       "  </thead>\n",
       "  <tbody>\n",
       "    <tr>\n",
       "      <th>0</th>\n",
       "      <td>Aqr Arbitrage Llc|2024-03-31|RFMZ</td>\n",
       "      <td>2024-03-31</td>\n",
       "      <td>1711815268089177549</td>\n",
       "      <td>RiverNorth Flexible Municipal Income Fund II, ...</td>\n",
       "      <td>RFMZ</td>\n",
       "      <td>12/31/2023</td>\n",
       "      <td>Aqr Arbitrage Llc</td>\n",
       "      <td>36821</td>\n",
       "      <td>36821</td>\n",
       "      <td>New</td>\n",
       "      <td>$517</td>\n",
       "      <td>1711815268079</td>\n",
       "      <td>2024-03-31</td>\n",
       "      <td>10.0.16.39</td>\n",
       "      <td>1711815273965</td>\n",
       "    </tr>\n",
       "    <tr>\n",
       "      <th>1</th>\n",
       "      <td>Aqr Arbitrage Llc|2024-03-31|RMCO</td>\n",
       "      <td>2024-03-31</td>\n",
       "      <td>1711815130158749850</td>\n",
       "      <td>Royalty Management Holding Corporation Class A...</td>\n",
       "      <td>RMCO</td>\n",
       "      <td>12/31/2023</td>\n",
       "      <td>Aqr Arbitrage Llc</td>\n",
       "      <td>85060</td>\n",
       "      <td>-14940</td>\n",
       "      <td>-14.94%</td>\n",
       "      <td>$99</td>\n",
       "      <td>1711815130151</td>\n",
       "      <td>2024-03-31</td>\n",
       "      <td>10.0.16.39</td>\n",
       "      <td>1711815162591</td>\n",
       "    </tr>\n",
       "    <tr>\n",
       "      <th>2</th>\n",
       "      <td>Aqr Arbitrage Llc|2024-03-31|ROCLW</td>\n",
       "      <td>2024-03-31</td>\n",
       "      <td>1711815195153324601</td>\n",
       "      <td>Roth CH Acquisition V Co. Warrant</td>\n",
       "      <td>ROCLW</td>\n",
       "      <td>12/31/2023</td>\n",
       "      <td>Aqr Arbitrage Llc</td>\n",
       "      <td>89490</td>\n",
       "      <td>0</td>\n",
       "      <td>0%</td>\n",
       "      <td>$7</td>\n",
       "      <td>1711815195139</td>\n",
       "      <td>2024-03-31</td>\n",
       "      <td>10.0.16.39</td>\n",
       "      <td>1711815205516</td>\n",
       "    </tr>\n",
       "    <tr>\n",
       "      <th>3</th>\n",
       "      <td>Aqr Arbitrage Llc|2024-03-31|SCD</td>\n",
       "      <td>2024-03-31</td>\n",
       "      <td>1711816006433662560</td>\n",
       "      <td>LMP Capital and Income Fund Inc. Common Stock</td>\n",
       "      <td>SCD</td>\n",
       "      <td>12/31/2023</td>\n",
       "      <td>Aqr Arbitrage Llc</td>\n",
       "      <td>29818</td>\n",
       "      <td>-16522</td>\n",
       "      <td>-35.654%</td>\n",
       "      <td>$466</td>\n",
       "      <td>1711816006433</td>\n",
       "      <td>2024-03-31</td>\n",
       "      <td>10.0.16.39</td>\n",
       "      <td>1711816017568</td>\n",
       "    </tr>\n",
       "    <tr>\n",
       "      <th>4</th>\n",
       "      <td>Aqr Arbitrage Llc|2024-03-31|SDHY</td>\n",
       "      <td>2024-03-31</td>\n",
       "      <td>1711815356562536118</td>\n",
       "      <td>PGIM Short Duration High Yield Opportunities F...</td>\n",
       "      <td>SDHY</td>\n",
       "      <td>12/31/2023</td>\n",
       "      <td>Aqr Arbitrage Llc</td>\n",
       "      <td>124512</td>\n",
       "      <td>101216</td>\n",
       "      <td>434.478%</td>\n",
       "      <td>$1,915</td>\n",
       "      <td>1711815356561</td>\n",
       "      <td>2024-03-31</td>\n",
       "      <td>10.0.16.39</td>\n",
       "      <td>1711815364001</td>\n",
       "    </tr>\n",
       "    <tr>\n",
       "      <th>...</th>\n",
       "      <td>...</td>\n",
       "      <td>...</td>\n",
       "      <td>...</td>\n",
       "      <td>...</td>\n",
       "      <td>...</td>\n",
       "      <td>...</td>\n",
       "      <td>...</td>\n",
       "      <td>...</td>\n",
       "      <td>...</td>\n",
       "      <td>...</td>\n",
       "      <td>...</td>\n",
       "      <td>...</td>\n",
       "      <td>...</td>\n",
       "      <td>...</td>\n",
       "      <td>...</td>\n",
       "    </tr>\n",
       "    <tr>\n",
       "      <th>1522284</th>\n",
       "      <td>Baird Financial Group, Inc.|2024-03-31|CNI</td>\n",
       "      <td>2024-03-31</td>\n",
       "      <td>1711817071804773957</td>\n",
       "      <td>Canadian National Railway Company Common Stock</td>\n",
       "      <td>CNI</td>\n",
       "      <td>12/31/2023</td>\n",
       "      <td>Baird Financial Group, Inc.</td>\n",
       "      <td>17769</td>\n",
       "      <td>-80</td>\n",
       "      <td>-0.448%</td>\n",
       "      <td>$2,340</td>\n",
       "      <td>1711817071790</td>\n",
       "      <td>2024-03-31</td>\n",
       "      <td>10.0.16.39</td>\n",
       "      <td>1711817083595</td>\n",
       "    </tr>\n",
       "    <tr>\n",
       "      <th>1522285</th>\n",
       "      <td>Baird Financial Group, Inc.|2024-03-31|COO</td>\n",
       "      <td>2024-03-31</td>\n",
       "      <td>1711817135631172987</td>\n",
       "      <td>The Cooper Companies, Inc. Common Stock</td>\n",
       "      <td>COO</td>\n",
       "      <td>12/31/2023</td>\n",
       "      <td>Baird Financial Group, Inc.</td>\n",
       "      <td>8672</td>\n",
       "      <td>-22728</td>\n",
       "      <td>-72.382%</td>\n",
       "      <td>$880</td>\n",
       "      <td>1711817135621</td>\n",
       "      <td>2024-03-31</td>\n",
       "      <td>10.0.16.39</td>\n",
       "      <td>1711817140699</td>\n",
       "    </tr>\n",
       "    <tr>\n",
       "      <th>1522286</th>\n",
       "      <td>Baird Financial Group, Inc.|2024-03-31|COST</td>\n",
       "      <td>2024-03-31</td>\n",
       "      <td>1711816772445859850</td>\n",
       "      <td>Costco Wholesale Corporation Common Stock</td>\n",
       "      <td>COST</td>\n",
       "      <td>12/31/2023</td>\n",
       "      <td>Baird Financial Group, Inc.</td>\n",
       "      <td>630275</td>\n",
       "      <td>122053</td>\n",
       "      <td>24.016%</td>\n",
       "      <td>$461,758</td>\n",
       "      <td>1711816772444</td>\n",
       "      <td>2024-03-31</td>\n",
       "      <td>10.0.16.39</td>\n",
       "      <td>1711816783487</td>\n",
       "    </tr>\n",
       "    <tr>\n",
       "      <th>1522287</th>\n",
       "      <td>Baird Financial Group, Inc.|2024-03-31|CSGS</td>\n",
       "      <td>2024-03-31</td>\n",
       "      <td>1711816322756255585</td>\n",
       "      <td>CSG Systems International, Inc. Common Stock</td>\n",
       "      <td>CSGS</td>\n",
       "      <td>12/31/2023</td>\n",
       "      <td>Baird Financial Group, Inc.</td>\n",
       "      <td>6313</td>\n",
       "      <td>591</td>\n",
       "      <td>10.329%</td>\n",
       "      <td>$325</td>\n",
       "      <td>1711816322755</td>\n",
       "      <td>2024-03-31</td>\n",
       "      <td>10.0.16.39</td>\n",
       "      <td>1711816341378</td>\n",
       "    </tr>\n",
       "    <tr>\n",
       "      <th>1522288</th>\n",
       "      <td>Baird Financial Group, Inc.|2024-03-31|CSQ</td>\n",
       "      <td>2024-03-31</td>\n",
       "      <td>1711815870688765247</td>\n",
       "      <td>Calamos Strategic Total Return Common Stock</td>\n",
       "      <td>CSQ</td>\n",
       "      <td>12/31/2023</td>\n",
       "      <td>Baird Financial Group, Inc.</td>\n",
       "      <td>21406</td>\n",
       "      <td>1255</td>\n",
       "      <td>6.228%</td>\n",
       "      <td>$350</td>\n",
       "      <td>1711815870688</td>\n",
       "      <td>2024-03-31</td>\n",
       "      <td>10.0.16.39</td>\n",
       "      <td>1711815882462</td>\n",
       "    </tr>\n",
       "  </tbody>\n",
       "</table>\n",
       "<p>1522289 rows × 15 columns</p>\n",
       "</div>"
      ],
      "text/plain": [
       "                                                  id p_tech_date  \\\n",
       "0                  Aqr Arbitrage Llc|2024-03-31|RFMZ  2024-03-31   \n",
       "1                  Aqr Arbitrage Llc|2024-03-31|RMCO  2024-03-31   \n",
       "2                 Aqr Arbitrage Llc|2024-03-31|ROCLW  2024-03-31   \n",
       "3                   Aqr Arbitrage Llc|2024-03-31|SCD  2024-03-31   \n",
       "4                  Aqr Arbitrage Llc|2024-03-31|SDHY  2024-03-31   \n",
       "...                                              ...         ...   \n",
       "1522284   Baird Financial Group, Inc.|2024-03-31|CNI  2024-03-31   \n",
       "1522285   Baird Financial Group, Inc.|2024-03-31|COO  2024-03-31   \n",
       "1522286  Baird Financial Group, Inc.|2024-03-31|COST  2024-03-31   \n",
       "1522287  Baird Financial Group, Inc.|2024-03-31|CSGS  2024-03-31   \n",
       "1522288   Baird Financial Group, Inc.|2024-03-31|CSQ  2024-03-31   \n",
       "\n",
       "                          ct  \\\n",
       "0        1711815268089177549   \n",
       "1        1711815130158749850   \n",
       "2        1711815195153324601   \n",
       "3        1711816006433662560   \n",
       "4        1711815356562536118   \n",
       "...                      ...   \n",
       "1522284  1711817071804773957   \n",
       "1522285  1711817135631172987   \n",
       "1522286  1711816772445859850   \n",
       "1522287  1711816322756255585   \n",
       "1522288  1711815870688765247   \n",
       "\n",
       "                                              company_name symbol report_date  \\\n",
       "0        RiverNorth Flexible Municipal Income Fund II, ...   RFMZ  12/31/2023   \n",
       "1        Royalty Management Holding Corporation Class A...   RMCO  12/31/2023   \n",
       "2                        Roth CH Acquisition V Co. Warrant  ROCLW  12/31/2023   \n",
       "3            LMP Capital and Income Fund Inc. Common Stock    SCD  12/31/2023   \n",
       "4        PGIM Short Duration High Yield Opportunities F...   SDHY  12/31/2023   \n",
       "...                                                    ...    ...         ...   \n",
       "1522284     Canadian National Railway Company Common Stock    CNI  12/31/2023   \n",
       "1522285            The Cooper Companies, Inc. Common Stock    COO  12/31/2023   \n",
       "1522286          Costco Wholesale Corporation Common Stock   COST  12/31/2023   \n",
       "1522287       CSG Systems International, Inc. Common Stock   CSGS  12/31/2023   \n",
       "1522288        Calamos Strategic Total Return Common Stock    CSQ  12/31/2023   \n",
       "\n",
       "                         holder_name  holder_quantity  holder_quantity_change  \\\n",
       "0                  Aqr Arbitrage Llc            36821                   36821   \n",
       "1                  Aqr Arbitrage Llc            85060                  -14940   \n",
       "2                  Aqr Arbitrage Llc            89490                       0   \n",
       "3                  Aqr Arbitrage Llc            29818                  -16522   \n",
       "4                  Aqr Arbitrage Llc           124512                  101216   \n",
       "...                              ...              ...                     ...   \n",
       "1522284  Baird Financial Group, Inc.            17769                     -80   \n",
       "1522285  Baird Financial Group, Inc.             8672                  -22728   \n",
       "1522286  Baird Financial Group, Inc.           630275                  122053   \n",
       "1522287  Baird Financial Group, Inc.             6313                     591   \n",
       "1522288  Baird Financial Group, Inc.            21406                    1255   \n",
       "\n",
       "        holder_pct_change holder_value      modify_at    batch_id     host_ip  \\\n",
       "0                     New         $517  1711815268079  2024-03-31  10.0.16.39   \n",
       "1                 -14.94%          $99  1711815130151  2024-03-31  10.0.16.39   \n",
       "2                      0%           $7  1711815195139  2024-03-31  10.0.16.39   \n",
       "3                -35.654%         $466  1711816006433  2024-03-31  10.0.16.39   \n",
       "4                434.478%       $1,915  1711815356561  2024-03-31  10.0.16.39   \n",
       "...                   ...          ...            ...         ...         ...   \n",
       "1522284           -0.448%       $2,340  1711817071790  2024-03-31  10.0.16.39   \n",
       "1522285          -72.382%         $880  1711817135621  2024-03-31  10.0.16.39   \n",
       "1522286           24.016%     $461,758  1711816772444  2024-03-31  10.0.16.39   \n",
       "1522287           10.329%         $325  1711816322755  2024-03-31  10.0.16.39   \n",
       "1522288            6.228%         $350  1711815870688  2024-03-31  10.0.16.39   \n",
       "\n",
       "         ingestion_storage_time  \n",
       "0                 1711815273965  \n",
       "1                 1711815162591  \n",
       "2                 1711815205516  \n",
       "3                 1711816017568  \n",
       "4                 1711815364001  \n",
       "...                         ...  \n",
       "1522284           1711817083595  \n",
       "1522285           1711817140699  \n",
       "1522286           1711816783487  \n",
       "1522287           1711816341378  \n",
       "1522288           1711815882462  \n",
       "\n",
       "[1522289 rows x 15 columns]"
      ]
     },
     "execution_count": 120,
     "metadata": {},
     "output_type": "execute_result"
    }
   ],
   "source": [
    "stock = pd.read_csv(r'C:\\Users\\Administrator\\webscraping_nasdaq_stock_holding_info_monthly_202404090908.csv')\n",
    "stock\n",
    "# .to_excel(r'C:\\Users\\Administrator\\Downloads\\boss_zhipin_salary_2024_04_08.xlsx', index=False)"
   ]
  },
  {
   "cell_type": "code",
   "execution_count": 121,
   "metadata": {},
   "outputs": [
    {
     "data": {
      "text/plain": [
       "(1522289, 15)"
      ]
     },
     "execution_count": 121,
     "metadata": {},
     "output_type": "execute_result"
    }
   ],
   "source": [
    "stock.shape"
   ]
  },
  {
   "cell_type": "code",
   "execution_count": 122,
   "metadata": {},
   "outputs": [
    {
     "data": {
      "text/plain": [
       "761144.5"
      ]
     },
     "execution_count": 122,
     "metadata": {},
     "output_type": "execute_result"
    }
   ],
   "source": [
    "1522289 / 2"
   ]
  },
  {
   "cell_type": "code",
   "execution_count": 125,
   "metadata": {},
   "outputs": [],
   "source": [
    "stock.iloc[761144: , :].to_excel(r'C:\\Users\\Administrator\\Downloads\\nasdaq_stock_holding_part_2_2024_04_09.xlsx', index=False)"
   ]
  },
  {
   "cell_type": "code",
   "execution_count": 127,
   "metadata": {},
   "outputs": [
    {
     "data": {
      "text/plain": [
       "162.5"
      ]
     },
     "execution_count": 127,
     "metadata": {},
     "output_type": "execute_result"
    }
   ],
   "source": [
    "(120+130)/2/10*13"
   ]
  },
  {
   "cell_type": "code",
   "execution_count": 130,
   "metadata": {},
   "outputs": [
    {
     "data": {
      "text/plain": [
       "0    29100.0\n",
       "dtype: float64"
      ]
     },
     "execution_count": 130,
     "metadata": {},
     "output_type": "execute_result"
    }
   ],
   "source": [
    "pd.DataFrame([29100.0000, 29100.0000, 8500.0000, 8500.0000, 29800.0000, 29950.0000, 29950.0000]).median()"
   ]
  },
  {
   "cell_type": "code",
   "execution_count": null,
   "metadata": {},
   "outputs": [],
   "source": [
    "Rp 7.950\n",
    "Rp 29.100\n",
    "Rp 29.100\n",
    "Rp 29.350\n",
    "Rp 8.500\n",
    "Rp 8.500\n",
    "Rp 29.700\n",
    "Rp 29.800\n",
    "Rp 29.950\n",
    "Rp 29.950\n",
    "Rp 29.950"
   ]
  }
 ],
 "metadata": {
  "kernelspec": {
   "display_name": "base",
   "language": "python",
   "name": "python3"
  },
  "language_info": {
   "codemirror_mode": {
    "name": "ipython",
    "version": 3
   },
   "file_extension": ".py",
   "mimetype": "text/x-python",
   "name": "python",
   "nbconvert_exporter": "python",
   "pygments_lexer": "ipython3",
   "version": "3.9.19"
  },
  "orig_nbformat": 4
 },
 "nbformat": 4,
 "nbformat_minor": 2
}
