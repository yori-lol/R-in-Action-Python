{
 "cells": [
  {
   "cell_type": "code",
   "execution_count": 1,
   "metadata": {},
   "outputs": [],
   "source": [
    "import pandas as pd\n",
    "import numpy as np\n",
    "import scipy.stats as stats\n",
    "import seaborn as sns\n",
    "import matplotlib.pyplot as plt\n",
    "import statsmodels.api as sm\n",
    "import statsmodels.formula.api as smf\n",
    "from statsmodels.stats.multicomp import pairwise_tukeyhsd"
   ]
  },
  {
   "cell_type": "code",
   "execution_count": 2,
   "metadata": {},
   "outputs": [
    {
     "data": {
      "text/html": [
       "<div>\n",
       "<style scoped>\n",
       "    .dataframe tbody tr th:only-of-type {\n",
       "        vertical-align: middle;\n",
       "    }\n",
       "\n",
       "    .dataframe tbody tr th {\n",
       "        vertical-align: top;\n",
       "    }\n",
       "\n",
       "    .dataframe thead th {\n",
       "        text-align: right;\n",
       "    }\n",
       "</style>\n",
       "<table border=\"1\" class=\"dataframe\">\n",
       "  <thead>\n",
       "    <tr style=\"text-align: right;\">\n",
       "      <th></th>\n",
       "      <th>trt</th>\n",
       "      <th>response</th>\n",
       "    </tr>\n",
       "  </thead>\n",
       "  <tbody>\n",
       "    <tr>\n",
       "      <th>1</th>\n",
       "      <td>1time</td>\n",
       "      <td>3.8612</td>\n",
       "    </tr>\n",
       "    <tr>\n",
       "      <th>2</th>\n",
       "      <td>1time</td>\n",
       "      <td>10.3868</td>\n",
       "    </tr>\n",
       "    <tr>\n",
       "      <th>3</th>\n",
       "      <td>1time</td>\n",
       "      <td>5.9059</td>\n",
       "    </tr>\n",
       "    <tr>\n",
       "      <th>4</th>\n",
       "      <td>1time</td>\n",
       "      <td>3.0609</td>\n",
       "    </tr>\n",
       "    <tr>\n",
       "      <th>5</th>\n",
       "      <td>1time</td>\n",
       "      <td>7.7204</td>\n",
       "    </tr>\n",
       "    <tr>\n",
       "      <th>6</th>\n",
       "      <td>1time</td>\n",
       "      <td>2.7139</td>\n",
       "    </tr>\n",
       "    <tr>\n",
       "      <th>7</th>\n",
       "      <td>1time</td>\n",
       "      <td>4.9243</td>\n",
       "    </tr>\n",
       "    <tr>\n",
       "      <th>8</th>\n",
       "      <td>1time</td>\n",
       "      <td>2.3039</td>\n",
       "    </tr>\n",
       "    <tr>\n",
       "      <th>9</th>\n",
       "      <td>1time</td>\n",
       "      <td>7.5301</td>\n",
       "    </tr>\n",
       "    <tr>\n",
       "      <th>10</th>\n",
       "      <td>1time</td>\n",
       "      <td>9.4123</td>\n",
       "    </tr>\n",
       "    <tr>\n",
       "      <th>11</th>\n",
       "      <td>2times</td>\n",
       "      <td>10.3993</td>\n",
       "    </tr>\n",
       "    <tr>\n",
       "      <th>12</th>\n",
       "      <td>2times</td>\n",
       "      <td>8.6027</td>\n",
       "    </tr>\n",
       "    <tr>\n",
       "      <th>13</th>\n",
       "      <td>2times</td>\n",
       "      <td>13.6320</td>\n",
       "    </tr>\n",
       "    <tr>\n",
       "      <th>14</th>\n",
       "      <td>2times</td>\n",
       "      <td>3.5054</td>\n",
       "    </tr>\n",
       "    <tr>\n",
       "      <th>15</th>\n",
       "      <td>2times</td>\n",
       "      <td>7.7703</td>\n",
       "    </tr>\n",
       "    <tr>\n",
       "      <th>16</th>\n",
       "      <td>2times</td>\n",
       "      <td>8.6266</td>\n",
       "    </tr>\n",
       "    <tr>\n",
       "      <th>17</th>\n",
       "      <td>2times</td>\n",
       "      <td>9.2274</td>\n",
       "    </tr>\n",
       "    <tr>\n",
       "      <th>18</th>\n",
       "      <td>2times</td>\n",
       "      <td>6.3159</td>\n",
       "    </tr>\n",
       "    <tr>\n",
       "      <th>19</th>\n",
       "      <td>2times</td>\n",
       "      <td>15.8258</td>\n",
       "    </tr>\n",
       "    <tr>\n",
       "      <th>20</th>\n",
       "      <td>2times</td>\n",
       "      <td>8.3443</td>\n",
       "    </tr>\n",
       "    <tr>\n",
       "      <th>21</th>\n",
       "      <td>4times</td>\n",
       "      <td>13.9621</td>\n",
       "    </tr>\n",
       "    <tr>\n",
       "      <th>22</th>\n",
       "      <td>4times</td>\n",
       "      <td>13.9606</td>\n",
       "    </tr>\n",
       "    <tr>\n",
       "      <th>23</th>\n",
       "      <td>4times</td>\n",
       "      <td>13.9176</td>\n",
       "    </tr>\n",
       "    <tr>\n",
       "      <th>24</th>\n",
       "      <td>4times</td>\n",
       "      <td>8.0534</td>\n",
       "    </tr>\n",
       "    <tr>\n",
       "      <th>25</th>\n",
       "      <td>4times</td>\n",
       "      <td>11.0432</td>\n",
       "    </tr>\n",
       "    <tr>\n",
       "      <th>26</th>\n",
       "      <td>4times</td>\n",
       "      <td>12.3692</td>\n",
       "    </tr>\n",
       "    <tr>\n",
       "      <th>27</th>\n",
       "      <td>4times</td>\n",
       "      <td>10.3921</td>\n",
       "    </tr>\n",
       "    <tr>\n",
       "      <th>28</th>\n",
       "      <td>4times</td>\n",
       "      <td>9.0286</td>\n",
       "    </tr>\n",
       "    <tr>\n",
       "      <th>29</th>\n",
       "      <td>4times</td>\n",
       "      <td>12.8416</td>\n",
       "    </tr>\n",
       "    <tr>\n",
       "      <th>30</th>\n",
       "      <td>4times</td>\n",
       "      <td>18.1794</td>\n",
       "    </tr>\n",
       "    <tr>\n",
       "      <th>31</th>\n",
       "      <td>drugD</td>\n",
       "      <td>16.9819</td>\n",
       "    </tr>\n",
       "    <tr>\n",
       "      <th>32</th>\n",
       "      <td>drugD</td>\n",
       "      <td>15.4576</td>\n",
       "    </tr>\n",
       "    <tr>\n",
       "      <th>33</th>\n",
       "      <td>drugD</td>\n",
       "      <td>19.9793</td>\n",
       "    </tr>\n",
       "    <tr>\n",
       "      <th>34</th>\n",
       "      <td>drugD</td>\n",
       "      <td>14.7389</td>\n",
       "    </tr>\n",
       "    <tr>\n",
       "      <th>35</th>\n",
       "      <td>drugD</td>\n",
       "      <td>13.5850</td>\n",
       "    </tr>\n",
       "    <tr>\n",
       "      <th>36</th>\n",
       "      <td>drugD</td>\n",
       "      <td>10.8648</td>\n",
       "    </tr>\n",
       "    <tr>\n",
       "      <th>37</th>\n",
       "      <td>drugD</td>\n",
       "      <td>17.5897</td>\n",
       "    </tr>\n",
       "    <tr>\n",
       "      <th>38</th>\n",
       "      <td>drugD</td>\n",
       "      <td>8.8194</td>\n",
       "    </tr>\n",
       "    <tr>\n",
       "      <th>39</th>\n",
       "      <td>drugD</td>\n",
       "      <td>17.9635</td>\n",
       "    </tr>\n",
       "    <tr>\n",
       "      <th>40</th>\n",
       "      <td>drugD</td>\n",
       "      <td>17.6316</td>\n",
       "    </tr>\n",
       "    <tr>\n",
       "      <th>41</th>\n",
       "      <td>drugE</td>\n",
       "      <td>21.5119</td>\n",
       "    </tr>\n",
       "    <tr>\n",
       "      <th>42</th>\n",
       "      <td>drugE</td>\n",
       "      <td>27.2445</td>\n",
       "    </tr>\n",
       "    <tr>\n",
       "      <th>43</th>\n",
       "      <td>drugE</td>\n",
       "      <td>20.5199</td>\n",
       "    </tr>\n",
       "    <tr>\n",
       "      <th>44</th>\n",
       "      <td>drugE</td>\n",
       "      <td>15.7707</td>\n",
       "    </tr>\n",
       "    <tr>\n",
       "      <th>45</th>\n",
       "      <td>drugE</td>\n",
       "      <td>22.8850</td>\n",
       "    </tr>\n",
       "    <tr>\n",
       "      <th>46</th>\n",
       "      <td>drugE</td>\n",
       "      <td>23.9527</td>\n",
       "    </tr>\n",
       "    <tr>\n",
       "      <th>47</th>\n",
       "      <td>drugE</td>\n",
       "      <td>21.5925</td>\n",
       "    </tr>\n",
       "    <tr>\n",
       "      <th>48</th>\n",
       "      <td>drugE</td>\n",
       "      <td>18.3058</td>\n",
       "    </tr>\n",
       "    <tr>\n",
       "      <th>49</th>\n",
       "      <td>drugE</td>\n",
       "      <td>20.3851</td>\n",
       "    </tr>\n",
       "    <tr>\n",
       "      <th>50</th>\n",
       "      <td>drugE</td>\n",
       "      <td>17.3071</td>\n",
       "    </tr>\n",
       "  </tbody>\n",
       "</table>\n",
       "</div>"
      ],
      "text/plain": [
       "       trt  response\n",
       "1    1time    3.8612\n",
       "2    1time   10.3868\n",
       "3    1time    5.9059\n",
       "4    1time    3.0609\n",
       "5    1time    7.7204\n",
       "6    1time    2.7139\n",
       "7    1time    4.9243\n",
       "8    1time    2.3039\n",
       "9    1time    7.5301\n",
       "10   1time    9.4123\n",
       "11  2times   10.3993\n",
       "12  2times    8.6027\n",
       "13  2times   13.6320\n",
       "14  2times    3.5054\n",
       "15  2times    7.7703\n",
       "16  2times    8.6266\n",
       "17  2times    9.2274\n",
       "18  2times    6.3159\n",
       "19  2times   15.8258\n",
       "20  2times    8.3443\n",
       "21  4times   13.9621\n",
       "22  4times   13.9606\n",
       "23  4times   13.9176\n",
       "24  4times    8.0534\n",
       "25  4times   11.0432\n",
       "26  4times   12.3692\n",
       "27  4times   10.3921\n",
       "28  4times    9.0286\n",
       "29  4times   12.8416\n",
       "30  4times   18.1794\n",
       "31   drugD   16.9819\n",
       "32   drugD   15.4576\n",
       "33   drugD   19.9793\n",
       "34   drugD   14.7389\n",
       "35   drugD   13.5850\n",
       "36   drugD   10.8648\n",
       "37   drugD   17.5897\n",
       "38   drugD    8.8194\n",
       "39   drugD   17.9635\n",
       "40   drugD   17.6316\n",
       "41   drugE   21.5119\n",
       "42   drugE   27.2445\n",
       "43   drugE   20.5199\n",
       "44   drugE   15.7707\n",
       "45   drugE   22.8850\n",
       "46   drugE   23.9527\n",
       "47   drugE   21.5925\n",
       "48   drugE   18.3058\n",
       "49   drugE   20.3851\n",
       "50   drugE   17.3071"
      ]
     },
     "execution_count": 2,
     "metadata": {},
     "output_type": "execute_result"
    }
   ],
   "source": [
    "cholesterol = pd.read_csv(r'/Users/liuyu/Downloads/cholesterol.csv', index_col=0)\n",
    "cholesterol"
   ]
  },
  {
   "cell_type": "code",
   "execution_count": 3,
   "metadata": {},
   "outputs": [
    {
     "data": {
      "text/html": [
       "<div>\n",
       "<style scoped>\n",
       "    .dataframe tbody tr th:only-of-type {\n",
       "        vertical-align: middle;\n",
       "    }\n",
       "\n",
       "    .dataframe tbody tr th {\n",
       "        vertical-align: top;\n",
       "    }\n",
       "\n",
       "    .dataframe thead th {\n",
       "        text-align: right;\n",
       "    }\n",
       "</style>\n",
       "<table border=\"1\" class=\"dataframe\">\n",
       "  <thead>\n",
       "    <tr style=\"text-align: right;\">\n",
       "      <th></th>\n",
       "      <th>response</th>\n",
       "    </tr>\n",
       "    <tr>\n",
       "      <th>trt</th>\n",
       "      <th></th>\n",
       "    </tr>\n",
       "  </thead>\n",
       "  <tbody>\n",
       "    <tr>\n",
       "      <th>1time</th>\n",
       "      <td>10</td>\n",
       "    </tr>\n",
       "    <tr>\n",
       "      <th>2times</th>\n",
       "      <td>10</td>\n",
       "    </tr>\n",
       "    <tr>\n",
       "      <th>4times</th>\n",
       "      <td>10</td>\n",
       "    </tr>\n",
       "    <tr>\n",
       "      <th>drugD</th>\n",
       "      <td>10</td>\n",
       "    </tr>\n",
       "    <tr>\n",
       "      <th>drugE</th>\n",
       "      <td>10</td>\n",
       "    </tr>\n",
       "  </tbody>\n",
       "</table>\n",
       "</div>"
      ],
      "text/plain": [
       "        response\n",
       "trt             \n",
       "1time         10\n",
       "2times        10\n",
       "4times        10\n",
       "drugD         10\n",
       "drugE         10"
      ]
     },
     "execution_count": 3,
     "metadata": {},
     "output_type": "execute_result"
    }
   ],
   "source": [
    "# 各组样本大小\n",
    "cholesterol.groupby('trt').count()"
   ]
  },
  {
   "cell_type": "code",
   "execution_count": 4,
   "metadata": {},
   "outputs": [
    {
     "data": {
      "text/html": [
       "<div>\n",
       "<style scoped>\n",
       "    .dataframe tbody tr th:only-of-type {\n",
       "        vertical-align: middle;\n",
       "    }\n",
       "\n",
       "    .dataframe tbody tr th {\n",
       "        vertical-align: top;\n",
       "    }\n",
       "\n",
       "    .dataframe thead th {\n",
       "        text-align: right;\n",
       "    }\n",
       "</style>\n",
       "<table border=\"1\" class=\"dataframe\">\n",
       "  <thead>\n",
       "    <tr style=\"text-align: right;\">\n",
       "      <th></th>\n",
       "      <th>response</th>\n",
       "    </tr>\n",
       "    <tr>\n",
       "      <th>trt</th>\n",
       "      <th></th>\n",
       "    </tr>\n",
       "  </thead>\n",
       "  <tbody>\n",
       "    <tr>\n",
       "      <th>1time</th>\n",
       "      <td>5.78197</td>\n",
       "    </tr>\n",
       "    <tr>\n",
       "      <th>2times</th>\n",
       "      <td>9.22497</td>\n",
       "    </tr>\n",
       "    <tr>\n",
       "      <th>4times</th>\n",
       "      <td>12.37478</td>\n",
       "    </tr>\n",
       "    <tr>\n",
       "      <th>drugD</th>\n",
       "      <td>15.36117</td>\n",
       "    </tr>\n",
       "    <tr>\n",
       "      <th>drugE</th>\n",
       "      <td>20.94752</td>\n",
       "    </tr>\n",
       "  </tbody>\n",
       "</table>\n",
       "</div>"
      ],
      "text/plain": [
       "        response\n",
       "trt             \n",
       "1time    5.78197\n",
       "2times   9.22497\n",
       "4times  12.37478\n",
       "drugD   15.36117\n",
       "drugE   20.94752"
      ]
     },
     "execution_count": 4,
     "metadata": {},
     "output_type": "execute_result"
    }
   ],
   "source": [
    "# 各组均值\n",
    "cholesterol.groupby('trt').mean()"
   ]
  },
  {
   "cell_type": "code",
   "execution_count": 5,
   "metadata": {},
   "outputs": [
    {
     "data": {
      "text/html": [
       "<div>\n",
       "<style scoped>\n",
       "    .dataframe tbody tr th:only-of-type {\n",
       "        vertical-align: middle;\n",
       "    }\n",
       "\n",
       "    .dataframe tbody tr th {\n",
       "        vertical-align: top;\n",
       "    }\n",
       "\n",
       "    .dataframe thead th {\n",
       "        text-align: right;\n",
       "    }\n",
       "</style>\n",
       "<table border=\"1\" class=\"dataframe\">\n",
       "  <thead>\n",
       "    <tr style=\"text-align: right;\">\n",
       "      <th></th>\n",
       "      <th>response</th>\n",
       "    </tr>\n",
       "    <tr>\n",
       "      <th>trt</th>\n",
       "      <th></th>\n",
       "    </tr>\n",
       "  </thead>\n",
       "  <tbody>\n",
       "    <tr>\n",
       "      <th>1time</th>\n",
       "      <td>2.878113</td>\n",
       "    </tr>\n",
       "    <tr>\n",
       "      <th>2times</th>\n",
       "      <td>3.483054</td>\n",
       "    </tr>\n",
       "    <tr>\n",
       "      <th>4times</th>\n",
       "      <td>2.923119</td>\n",
       "    </tr>\n",
       "    <tr>\n",
       "      <th>drugD</th>\n",
       "      <td>3.454636</td>\n",
       "    </tr>\n",
       "    <tr>\n",
       "      <th>drugE</th>\n",
       "      <td>3.345003</td>\n",
       "    </tr>\n",
       "  </tbody>\n",
       "</table>\n",
       "</div>"
      ],
      "text/plain": [
       "        response\n",
       "trt             \n",
       "1time   2.878113\n",
       "2times  3.483054\n",
       "4times  2.923119\n",
       "drugD   3.454636\n",
       "drugE   3.345003"
      ]
     },
     "execution_count": 5,
     "metadata": {},
     "output_type": "execute_result"
    }
   ],
   "source": [
    "# 各组标准差\n",
    "cholesterol.groupby('trt').std()"
   ]
  },
  {
   "cell_type": "code",
   "execution_count": 6,
   "metadata": {},
   "outputs": [
    {
     "data": {
      "text/plain": [
       "<statsmodels.regression.linear_model.RegressionResultsWrapper at 0x7fe3ef5babe0>"
      ]
     },
     "execution_count": 6,
     "metadata": {},
     "output_type": "execute_result"
    }
   ],
   "source": [
    "# 检验组间差异\n",
    "# statsmodels库调用aov函数可用于执行方差分析\n",
    "model = smf.ols('response ~ C(trt)', data=cholesterol).fit()\n",
    "model"
   ]
  },
  {
   "cell_type": "code",
   "execution_count": 7,
   "metadata": {},
   "outputs": [
    {
     "data": {
      "text/html": [
       "<div>\n",
       "<style scoped>\n",
       "    .dataframe tbody tr th:only-of-type {\n",
       "        vertical-align: middle;\n",
       "    }\n",
       "\n",
       "    .dataframe tbody tr th {\n",
       "        vertical-align: top;\n",
       "    }\n",
       "\n",
       "    .dataframe thead th {\n",
       "        text-align: right;\n",
       "    }\n",
       "</style>\n",
       "<table border=\"1\" class=\"dataframe\">\n",
       "  <thead>\n",
       "    <tr style=\"text-align: right;\">\n",
       "      <th></th>\n",
       "      <th>df</th>\n",
       "      <th>sum_sq</th>\n",
       "      <th>mean_sq</th>\n",
       "      <th>F</th>\n",
       "      <th>PR(&gt;F)</th>\n",
       "    </tr>\n",
       "  </thead>\n",
       "  <tbody>\n",
       "    <tr>\n",
       "      <th>C(trt)</th>\n",
       "      <td>4.0</td>\n",
       "      <td>1351.369014</td>\n",
       "      <td>337.842253</td>\n",
       "      <td>32.432826</td>\n",
       "      <td>9.818516e-13</td>\n",
       "    </tr>\n",
       "    <tr>\n",
       "      <th>Residual</th>\n",
       "      <td>45.0</td>\n",
       "      <td>468.750438</td>\n",
       "      <td>10.416676</td>\n",
       "      <td>NaN</td>\n",
       "      <td>NaN</td>\n",
       "    </tr>\n",
       "  </tbody>\n",
       "</table>\n",
       "</div>"
      ],
      "text/plain": [
       "            df       sum_sq     mean_sq          F        PR(>F)\n",
       "C(trt)     4.0  1351.369014  337.842253  32.432826  9.818516e-13\n",
       "Residual  45.0   468.750438   10.416676        NaN           NaN"
      ]
     },
     "execution_count": 7,
     "metadata": {},
     "output_type": "execute_result"
    }
   ],
   "source": [
    "# sum_sq: \n",
    "#   1) C(trt) 组间平方和 方差error sum of square （SSB）误差平方和，各组均值与总均值的误差平方和，反映各样本均值之间的差异程度 \n",
    "#   2）Residual 组内平方和，各组数据与其均值的误差平方和，反映每个样本各观测值得离散情况\n",
    "# mean_sq: mean squared error 均方误差\n",
    "# df: 自由度\n",
    "# F值：检验组间方差和组内方差的比率\n",
    "# PR(>F): p值，用于判断组间差异是否显著。如果p值小于显著性水平（通常是0.05），则可以拒绝原假设（即组间均值相等）。\n",
    "anova_table = sm.stats.anova_lm(model, type=2)\n",
    "anova_table"
   ]
  },
  {
   "cell_type": "code",
   "execution_count": 8,
   "metadata": {},
   "outputs": [],
   "source": [
    "# 解释sm.stats.anova_lm(model, type=2)\n",
    "# type=1: Type I ANOVA(顺序方差分析)，假设每个因子在模型中的顺序是有意义的，计算每个因子时忽略其他因子对模型的贡献\n",
    "# type=2: Type II ANOVA(平衡方差分析)，假设所有因子是平衡的，计算每个因子的效果时考虑其他因子，但不包括因子之间的交互作用\n",
    "# type=3: Type III ANOVA(全模型方差分析)，假设模型中的所有因子和交互作用都是相关的，计算每个因子的效果时考虑其他因子和交互作用"
   ]
  },
  {
   "cell_type": "code",
   "execution_count": 9,
   "metadata": {},
   "outputs": [
    {
     "data": {
      "text/plain": [
       "12.738081999999999"
      ]
     },
     "execution_count": 9,
     "metadata": {},
     "output_type": "execute_result"
    }
   ],
   "source": [
    "cholesterol.response.mean()"
   ]
  },
  {
   "cell_type": "code",
   "execution_count": 10,
   "metadata": {},
   "outputs": [
    {
     "data": {
      "text/plain": [
       "response    1351.369014\n",
       "dtype: float64"
      ]
     },
     "execution_count": 10,
     "metadata": {},
     "output_type": "execute_result"
    }
   ],
   "source": [
    "((cholesterol.groupby('trt').mean() - cholesterol.response.mean()).apply(np.square) * 10).sum()"
   ]
  },
  {
   "cell_type": "code",
   "execution_count": 11,
   "metadata": {},
   "outputs": [],
   "source": [
    "tmp = cholesterol.merge(cholesterol.groupby('trt').mean().reset_index(), on='trt', how='left')"
   ]
  },
  {
   "cell_type": "code",
   "execution_count": 12,
   "metadata": {},
   "outputs": [
    {
     "data": {
      "text/plain": [
       "468.750438055"
      ]
     },
     "execution_count": 12,
     "metadata": {},
     "output_type": "execute_result"
    }
   ],
   "source": [
    "np.square(tmp.response_x - tmp.response_y).sum()"
   ]
  },
  {
   "cell_type": "code",
   "execution_count": 15,
   "metadata": {},
   "outputs": [
    {
     "data": {
      "text/plain": [
       "<statsmodels.sandbox.stats.multicomp.TukeyHSDResults at 0x7fe3f398c790>"
      ]
     },
     "execution_count": 15,
     "metadata": {},
     "output_type": "execute_result"
    }
   ],
   "source": [
    "# 多重比较\n",
    "tukey = pairwise_tukeyhsd(cholesterol[['response']], cholesterol[['trt']], alpha=0.05)\n",
    "tukey"
   ]
  },
  {
   "cell_type": "code",
   "execution_count": 16,
   "metadata": {},
   "outputs": [
    {
     "data": {
      "text/html": [
       "<table class=\"simpletable\">\n",
       "<caption>Multiple Comparison of Means - Tukey HSD, FWER=0.05</caption>\n",
       "<tr>\n",
       "  <th>group1</th> <th>group2</th> <th>meandiff</th>  <th>p-adj</th>  <th>lower</th>   <th>upper</th>  <th>reject</th>\n",
       "</tr>\n",
       "<tr>\n",
       "   <td>1time</td> <td>2times</td>   <td>3.443</td>  <td>0.1381</td> <td>-0.6583</td> <td>7.5443</td>   <td>False</td>\n",
       "</tr>\n",
       "<tr>\n",
       "   <td>1time</td> <td>4times</td>  <td>6.5928</td>  <td>0.0004</td> <td>2.4915</td>  <td>10.6941</td>  <td>True</td> \n",
       "</tr>\n",
       "<tr>\n",
       "   <td>1time</td>  <td>drugD</td>  <td>9.5792</td>    <td>0.0</td>  <td>5.4779</td>  <td>13.6805</td>  <td>True</td> \n",
       "</tr>\n",
       "<tr>\n",
       "   <td>1time</td>  <td>drugE</td>  <td>15.1656</td>   <td>0.0</td>  <td>11.0643</td> <td>19.2668</td>  <td>True</td> \n",
       "</tr>\n",
       "<tr>\n",
       "  <td>2times</td> <td>4times</td>  <td>3.1498</td>   <td>0.205</td> <td>-0.9515</td> <td>7.2511</td>   <td>False</td>\n",
       "</tr>\n",
       "<tr>\n",
       "  <td>2times</td>  <td>drugD</td>  <td>6.1362</td>   <td>0.001</td> <td>2.0349</td>  <td>10.2375</td>  <td>True</td> \n",
       "</tr>\n",
       "<tr>\n",
       "  <td>2times</td>  <td>drugE</td>  <td>11.7226</td>   <td>0.0</td>  <td>7.6213</td>  <td>15.8238</td>  <td>True</td> \n",
       "</tr>\n",
       "<tr>\n",
       "  <td>4times</td>  <td>drugD</td>  <td>2.9864</td>  <td>0.2512</td> <td>-1.1149</td> <td>7.0877</td>   <td>False</td>\n",
       "</tr>\n",
       "<tr>\n",
       "  <td>4times</td>  <td>drugE</td>  <td>8.5727</td>    <td>0.0</td>  <td>4.4715</td>  <td>12.674</td>   <td>True</td> \n",
       "</tr>\n",
       "<tr>\n",
       "   <td>drugD</td>  <td>drugE</td>  <td>5.5864</td>  <td>0.0031</td> <td>1.4851</td>  <td>9.6876</td>   <td>True</td> \n",
       "</tr>\n",
       "</table>"
      ],
      "text/latex": [
       "\\begin{center}\n",
       "\\begin{tabular}{ccccccc}\n",
       "\\toprule\n",
       "\\textbf{group1} & \\textbf{group2} & \\textbf{meandiff} & \\textbf{p-adj} & \\textbf{lower} & \\textbf{upper} & \\textbf{reject}  \\\\\n",
       "\\midrule\n",
       "     1time      &      2times     &       3.443       &     0.1381     &    -0.6583     &     7.5443     &      False       \\\\\n",
       "     1time      &      4times     &       6.5928      &     0.0004     &     2.4915     &    10.6941     &       True       \\\\\n",
       "     1time      &      drugD      &       9.5792      &      0.0       &     5.4779     &    13.6805     &       True       \\\\\n",
       "     1time      &      drugE      &      15.1656      &      0.0       &    11.0643     &    19.2668     &       True       \\\\\n",
       "     2times     &      4times     &       3.1498      &     0.205      &    -0.9515     &     7.2511     &      False       \\\\\n",
       "     2times     &      drugD      &       6.1362      &     0.001      &     2.0349     &    10.2375     &       True       \\\\\n",
       "     2times     &      drugE      &      11.7226      &      0.0       &     7.6213     &    15.8238     &       True       \\\\\n",
       "     4times     &      drugD      &       2.9864      &     0.2512     &    -1.1149     &     7.0877     &      False       \\\\\n",
       "     4times     &      drugE      &       8.5727      &      0.0       &     4.4715     &     12.674     &       True       \\\\\n",
       "     drugD      &      drugE      &       5.5864      &     0.0031     &     1.4851     &     9.6876     &       True       \\\\\n",
       "\\bottomrule\n",
       "\\end{tabular}\n",
       "%\\caption{Multiple Comparison of Means - Tukey HSD, FWER=0.05}\n",
       "\\end{center}"
      ],
      "text/plain": [
       "<class 'statsmodels.iolib.table.SimpleTable'>"
      ]
     },
     "execution_count": 16,
     "metadata": {},
     "output_type": "execute_result"
    }
   ],
   "source": [
    "# 给出置信区间的上下限有什么用？\n",
    "# 1、\n",
    "tukey.summary()"
   ]
  },
  {
   "cell_type": "code",
   "execution_count": null,
   "metadata": {},
   "outputs": [],
   "source": [
    "# 双因素方差分析\n",
    "toothgrowth = pd.read_csv(r'data_set\\\\toothgrowth.csv', index_col=0)\n",
    "toothgrowth"
   ]
  },
  {
   "cell_type": "code",
   "execution_count": null,
   "metadata": {},
   "outputs": [],
   "source": [
    "toothgrowth.columns"
   ]
  },
  {
   "cell_type": "code",
   "execution_count": null,
   "metadata": {},
   "outputs": [],
   "source": [
    "# 每组样本量的统计\n",
    "toothgrowth.groupby(['supp', 'dose'])[['len']].count().unstack()"
   ]
  },
  {
   "cell_type": "code",
   "execution_count": null,
   "metadata": {},
   "outputs": [],
   "source": [
    "# 样本组的均值\n",
    "toothgrowth.groupby(['supp', 'dose'])[['len']].mean().unstack()"
   ]
  },
  {
   "cell_type": "code",
   "execution_count": null,
   "metadata": {},
   "outputs": [],
   "source": [
    "# 样本组的标准差\n",
    "toothgrowth.groupby(['supp', 'dose'])[['len']].std().unstack()"
   ]
  },
  {
   "cell_type": "code",
   "execution_count": null,
   "metadata": {},
   "outputs": [],
   "source": [
    "tooth_model = smf.ols('len ~ C(dose) * C(supp)', data=toothgrowth).fit()"
   ]
  },
  {
   "cell_type": "code",
   "execution_count": null,
   "metadata": {},
   "outputs": [],
   "source": [
    "mean_sq = sum_sq / df,\n",
    "# F 各因素的mean_sq / 残差的mean_sq\n",
    "sm.stats.anova_lm(tooth_model, type=2)"
   ]
  },
  {
   "cell_type": "code",
   "execution_count": null,
   "metadata": {},
   "outputs": [],
   "source": [
    "# seaborn 实现interaction plot\n",
    "# 绘制交互作用图\n",
    "# 该图展示了各剂量喂食下豚鼠牙齿长度的均值\n",
    "sns.pointplot(x='dose', y='len', hue='supp', data=toothgrowth, markers=['o', 's'], linestyles=['-', '--'])"
   ]
  },
  {
   "cell_type": "code",
   "execution_count": null,
   "metadata": {},
   "outputs": [],
   "source": [
    "# 另一种图形表现方式\n",
    "# 计算均值和置信区间\n",
    "# 补充plot.errorbar的参数\n",
    "# 单因素的处理方式\n",
    "group_means = toothgrowth.groupby(['dose', 'supp'])['len'].mean()\n",
    "group_counts = toothgrowth.groupby(['dose', 'supp'])['len'].count()\n",
    "group_sems = toothgrowth.groupby(['dose', 'supp'])['len'].sem()\n",
    "confidence_interval = stats.t.ppf(0.95, group_counts - 1) * group_sems\n",
    "\n",
    "group_stats = pd.DataFrame({\n",
    "    'Mean': group_means,\n",
    "    'CI_Lower': group_means - confidence_interval,\n",
    "    'CI_Upper': group_means + confidence_interval\n",
    "})\n",
    "\n",
    "print(group_stats)"
   ]
  },
  {
   "cell_type": "code",
   "execution_count": null,
   "metadata": {},
   "outputs": [],
   "source": [
    "# 双因素的处理方式\n",
    "summary = toothgrowth.groupby(['dose', 'supp']).agg(['mean', 'count', 'std'])['len']\n",
    "summary['sem'] = summary['std'] / np.sqrt(summary['count'])\n",
    "summary['ci95'] = summary['sem'] * stats.t.ppf(0.975, summary['count'] - 1)\n",
    "summary.reset_index(inplace=True)\n",
    "\n",
    "print(summary)"
   ]
  },
  {
   "cell_type": "code",
   "execution_count": null,
   "metadata": {},
   "outputs": [],
   "source": [
    "plt.figure(figsize=(10, 6))\n",
    "for key, grp in summary.groupby('supp'):\n",
    "    plt.errorbar(grp['dose'], grp['mean'], yerr=grp['ci95'], fmt='o-', capsize=5, label=key)\n",
    "\n",
    "\n",
    "plt.title('Plot of Means with 95% Confidence Intervals')\n",
    "plt.xlabel('Group')\n",
    "plt.ylabel('Response')\n",
    "plt.grid(True)\n",
    "plt.show()"
   ]
  },
  {
   "cell_type": "code",
   "execution_count": null,
   "metadata": {},
   "outputs": [],
   "source": [
    "# 重复测试的方差分析\n",
    "co2 = pd.read_csv(r'data_set\\\\co2.csv', index_col=0)\n",
    "co2"
   ]
  }
 ],
 "metadata": {
  "kernelspec": {
   "display_name": "base",
   "language": "python",
   "name": "python3"
  },
  "language_info": {
   "codemirror_mode": {
    "name": "ipython",
    "version": 3
   },
   "file_extension": ".py",
   "mimetype": "text/x-python",
   "name": "python",
   "nbconvert_exporter": "python",
   "pygments_lexer": "ipython3",
   "version": "3.9.19"
  }
 },
 "nbformat": 4,
 "nbformat_minor": 2
}
