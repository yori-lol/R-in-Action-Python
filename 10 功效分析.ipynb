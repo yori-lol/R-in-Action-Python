{
 "cells": [
  {
   "cell_type": "code",
   "execution_count": 1,
   "metadata": {},
   "outputs": [],
   "source": [
    "import pandas as pd\n",
    "import numpy as np\n",
    "import seaborn as sns\n",
    "import matplotlib.pyplot as plt\n",
    "import statsmodels.formula.api as smf\n",
    "import statsmodels.api as sm\n",
    "import scipy.stats as stats"
   ]
  },
  {
   "cell_type": "code",
   "execution_count": null,
   "metadata": {},
   "outputs": [],
   "source": [
    "# 在给定置信度的情况下，判断检测到给定效应值时所需的样本量\n",
    "# 在给定置信度水平的情况下，计算在某样本量内能检测到给定效应值的概率"
   ]
  },
  {
   "cell_type": "code",
   "execution_count": null,
   "metadata": {},
   "outputs": [],
   "source": [
    "# 假设校验回顾\n",
    "# 对总体分布参数设定一个假设（零假设 H0）\n",
    "# 从总体分布中抽样，通过样本计算所得的统计量来对总体参数进行推断\n",
    "# 假设零假设为真，如果计算获得观测样本的统计量的概率非常小，便可以拒绝原假设，接受备择假设（研究假设）"
   ]
  },
  {
   "cell_type": "code",
   "execution_count": null,
   "metadata": {},
   "outputs": [],
   "source": [
    "# 如果零假设为真，那么可以假定反应时间呈正态分布，该样本统计量服从2n - 2自由度的t分布\n",
    "# 如果概率比预先设定的阈小（0.05），那么可以拒绝原假设，接受责备假设\n",
    "# 在统计学中，t分布通常用于估计小样本中的均值差异或回归系数的置信区间\n",
    "# t统计量计算\n",
    "# 自由度计算：1）方差相等 2）方差不等"
   ]
  },
  {
   "cell_type": "code",
   "execution_count": 2,
   "metadata": {},
   "outputs": [],
   "source": [
    "# 理解p值：表示在原假设为真的情况下，观察到当前样本数据或更计算数据的概率，反映了样本数据与原假设不一致程度"
   ]
  },
  {
   "cell_type": "code",
   "execution_count": 6,
   "metadata": {},
   "outputs": [
    {
     "data": {
      "text/plain": [
       "0.6934041894689656"
      ]
     },
     "execution_count": 6,
     "metadata": {},
     "output_type": "execute_result"
    }
   ],
   "source": [
    "# t检验\n",
    "# 用于进行独立样本t检验， 比较两个独立样本之间的均值差异\n",
    "power_analysis = sm.stats.TTestIndPower()\n",
    "\n",
    "# 参数设置\n",
    "# 预期效应大小，两个组均值之间的标准化差异\n",
    "effect_size = 0.8\n",
    "# 统计功效（检验的检出率），在实际效应存在时，正确拒绝原假设的概率，通常设置为0.8，表示有80%的机会检测到实际效应\n",
    "power = 0.9\n",
    "# 显著性水平\n",
    "alpha = 0.05\n",
    "# 第一个组的样本量\n",
    "nobs1 = 20\n",
    "# 第二个组的样本量\n",
    "nobs2 = 20\n",
    "# 两个组的样本量比\n",
    "# ratio = \n",
    "\n",
    "\n",
    "# 计算样本量\n",
    "# power_analysis.solve_power(\n",
    "#     effect_size = effect_size,\n",
    "#     alpha = alpha,\n",
    "#     power = power\n",
    "# )\n",
    "\n",
    "# 计算效应大小\n",
    "# power_analysis.solve_power(\n",
    "#     nobs1 = nobs1,\n",
    "#     alpha = alpha,\n",
    "#     power = power\n",
    "# )\n",
    "\n",
    "# 计算功效\n",
    "power_analysis.solve_power(\n",
    "    effect_size = effect_size,\n",
    "    nobs1 = nobs1,\n",
    "    alpha = alpha,\n",
    ")"
   ]
  },
  {
   "cell_type": "code",
   "execution_count": 17,
   "metadata": {},
   "outputs": [
    {
     "data": {
      "text/plain": [
       "0.056374948994126206"
      ]
     },
     "execution_count": 17,
     "metadata": {},
     "output_type": "execute_result"
    }
   ],
   "source": [
    "# 方差分析\n",
    "# 参数设置\n",
    "# 预期效应大小，两个组均值之间的标准化差异\n",
    "effect_size = 0.25\n",
    "# 统计功效（检验的检出率），在实际效应存在时，正确拒绝原假设的概率，通常设置为0.8，表示有80%的机会检测到实际效应\n",
    "power = 0.8\n",
    "# 显著性水平\n",
    "alpha = 0.05\n",
    "# 样本量\n",
    "nobs = 50\n",
    "# 分子自由度（组数减一） \n",
    "df_num = 4\n",
    "# 分母自由度（总样本量减去组数）\n",
    "df_denom = 10 * 4 - 4\n",
    "\n",
    "power_analysis = sm.stats.FTestPower()\n",
    "\n",
    "# 计算样本量\n",
    "# power_analysis.solve_power(\n",
    "#     effect_size = effect_size,\n",
    "#     df_num = df_num,\n",
    "#     alpha = alpha,\n",
    "#     power = power\n",
    "# )\n",
    "\n",
    "# 计算效应大小\n",
    "# power_analysis.solve_power(\n",
    "#     nobs = nobs,\n",
    "#     df_num = df_num,\n",
    "#     df_denom = df_denom,\n",
    "#     alpha = alpha,\n",
    "#     power = power\n",
    "# )\n",
    "\n",
    "# 计算功效\n",
    "power_analysis.solve_power(\n",
    "    nobs = nobs,\n",
    "    df_num = df_num,\n",
    "    df_denom = df_denom,\n",
    "    effect_size = effect_size,\n",
    "    alpha = alpha,\n",
    ")"
   ]
  },
  {
   "cell_type": "code",
   "execution_count": null,
   "metadata": {},
   "outputs": [],
   "source": [
    "# 两比例\n",
    "sm.stats.NormalIndPower"
   ]
  },
  {
   "cell_type": "code",
   "execution_count": 19,
   "metadata": {},
   "outputs": [
    {
     "data": {
      "text/plain": [
       "-1.696225312242312"
      ]
     },
     "execution_count": 19,
     "metadata": {},
     "output_type": "execute_result"
    }
   ],
   "source": [
    "# \n",
    "(7955360 - 21449443) / 7955360"
   ]
  }
 ],
 "metadata": {
  "kernelspec": {
   "display_name": "base",
   "language": "python",
   "name": "python3"
  },
  "language_info": {
   "codemirror_mode": {
    "name": "ipython",
    "version": 3
   },
   "file_extension": ".py",
   "mimetype": "text/x-python",
   "name": "python",
   "nbconvert_exporter": "python",
   "pygments_lexer": "ipython3",
   "version": "3.9.19"
  }
 },
 "nbformat": 4,
 "nbformat_minor": 2
}
